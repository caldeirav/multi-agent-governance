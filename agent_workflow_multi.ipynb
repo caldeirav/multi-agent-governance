{
 "cells": [
  {
   "cell_type": "markdown",
   "metadata": {},
   "source": [
    "# Multi-Agent Report Generation with AgentWorkflow\n",
    "\n",
    "In this notebook, we will explore how to use the `AgentWorkflow` class to create multi-agent systems. Specifically, we will create a system that can generate a report on a given topic."
   ]
  },
  {
   "cell_type": "markdown",
   "metadata": {},
   "source": [
    "## Setup\n",
    "\n",
    "In this example, we demonstrate the use of local serving of a `qwen3-8b` Small Language Model (SML) as our LLM, served by LM Studio, and a state-of-the-art model `gemini-2.5-flash` hosted by Google Cloud. For all supported LLM inference providers and models, check out the [examples documentation](https://docs.llamaindex.ai/en/stable/examples/llm/openai/) or [LlamaHub](https://llamahub.ai/?tab=llms) for a list of all supported LLMs and how to install/use them.\n",
    "\n",
    "If we wanted, each agent could have a different LLM, but for this example, we will use the same LLM for all agents."
   ]
  },
  {
   "cell_type": "code",
   "execution_count": 1,
   "metadata": {},
   "outputs": [],
   "source": [
    "# Load environment variables from .env file\n",
    "import os\n",
    "from dotenv import load_dotenv\n",
    "load_dotenv()\n",
    "\n",
    "# Environment variables for local LM studio inference\n",
    "model = \"qwen/qwen3-8b\"\n",
    "base_url = \"http://127.0.0.1:1234/v1\"\n",
    "api_key = \"\"\n",
    "\n",
    "# Environment variable for Google GenAI API inference\n",
    "google_api_key = os.getenv(\"GOOGLE_API_KEY\", \"\")\n",
    "google_model = \"gemini-2.5-flash\"\n",
    "\n",
    "# Environment variables for local data\n",
    "dir_input = './data/input'\n",
    "dir_output = './data/output'\n",
    "dir_chromadb = './database/vector_store/'\n",
    "chromadb_collection = 'internet_history'"
   ]
  },
  {
   "cell_type": "code",
   "execution_count": 2,
   "metadata": {},
   "outputs": [],
   "source": [
    "# Fix for \"RuntimeError: This event loop is already running\"\n",
    "import nest_asyncio\n",
    "nest_asyncio.apply()\n",
    "\n",
    "from llama_index.llms.lmstudio import LMStudio\n",
    "from llama_index.core.base.llms.types import ChatMessage, MessageRole\n",
    "\n",
    "# Initialize the LMStudio client with the model and base URL\n",
    "#llm = LMStudio(\n",
    "#    model_name=model,\n",
    "#    base_url=base_url,\n",
    "#    temperature=0.7,\n",
    "#)\n",
    "\n",
    "from llama_index.llms.google_genai import GoogleGenAI\n",
    "# Initialize the Google GenAI client with the API key\n",
    "llm = GoogleGenAI(\n",
    "    model=google_model,\n",
    "    api_key=google_api_key,  \n",
    ")"
   ]
  },
  {
   "cell_type": "code",
   "execution_count": 3,
   "metadata": {},
   "outputs": [
    {
     "name": "stdout",
     "output_type": "stream",
     "text": [
      "The internet's origins trace back to the late 1960s with ARPANET, a project by the U.S. Department of Defense designed to allow researchers to share information and computing resources across a robust, decentralized network. Throughout the 1970s and 80s, it evolved with the development of foundational protocols like TCP/IP, enabling diverse networks to communicate seamlessly. However, it was the invention of the World Wide Web by Tim Berners-Lee at CERN in the early 1990s that truly democratized access, introducing user-friendly concepts like hyperlinks and web browsers. This innovation, coupled with the subsequent commercialization and rapid adoption throughout the late 1990s and early 2000s, transformed the internet from a niche academic tool into an indispensable global infrastructure, profoundly reshaping communication, commerce, education, and entertainment worldwide.\n"
     ]
    }
   ],
   "source": [
    "# Test the LLM endpoint with a simple prompt\n",
    "response = llm.complete(\"Write a paragraph on the history of the internet.\")\n",
    "print(str(response))"
   ]
  },
  {
   "cell_type": "markdown",
   "metadata": {},
   "source": [
    "## System Design\n",
    "\n",
    "Our system will have three agents:\n",
    "\n",
    "1. A `ResearchAgent` that will search local data as well as the web for information on the given topic.\n",
    "2. A `WriteAgent` that will write the report using the information found by the `ResearchAgent`.\n",
    "3. A `ReviewAgent` that will review the report and provide feedback.\n",
    "\n",
    "We will use the `AgentWorkflow` class to create a multi-agent system that will execute these agents in order.\n",
    "\n",
    "While there are many ways to implement this system, in this case, we will use a few tools to help with the research and writing processes.\n",
    "\n",
    "1. A `web_search` tool to search the web for information on the given topic.\n",
    "2. A `query_engine` tool to query local documents via Query Engine (RAG)\n",
    "3. A `record_notes` tool to record notes on the given topic.\n",
    "4. A `write_report` tool to write the report using the information found by the `ResearchAgent`.\n",
    "5. A `review_report` tool to review the report and provide feedback.\n",
    "\n",
    "Utilizing the `Context` class, we can pass state between agents, and each agent will have access to the current state of the system.\n"
   ]
  },
  {
   "cell_type": "markdown",
   "metadata": {},
   "source": [
    "### Function convert_pdfs_to_markdown\n",
    "\n",
    "The function takes two arguments: the directory containing PDF files and the directory where the converted Markdown files will be saved. The function checks if the output directory exists and creates it if necessary. It then iterates over all PDF files in the input directory, converts each to Markdown using the DocumentConverter class, and saves the result in the output directory."
   ]
  },
  {
   "cell_type": "code",
   "execution_count": 7,
   "metadata": {},
   "outputs": [
    {
     "name": "stderr",
     "output_type": "stream",
     "text": [
      "/Users/vcaldeir/Code/multi-agent-governance/.venv/lib/python3.11/site-packages/tqdm/auto.py:21: TqdmWarning: IProgress not found. Please update jupyter and ipywidgets. See https://ipywidgets.readthedocs.io/en/stable/user_install.html\n",
      "  from .autonotebook import tqdm as notebook_tqdm\n"
     ]
    }
   ],
   "source": [
    "from warnings import filterwarnings\n",
    "from docling.document_converter import DocumentConverter\n",
    "\n",
    "# Suppress warning from easyocr to avoid cluttering the output of the conversion process\n",
    "filterwarnings(action=\"ignore\", category=FutureWarning, module=\"easyocr\") \n",
    "\n",
    "\n",
    "def convert_pdfs_to_markdown(pdf_dir, md_dir):\n",
    "\tif not os.path.exists(md_dir):\n",
    "\t\tos.makedirs(md_dir)\n",
    "\n",
    "\tpdf_files = [f for f in os.listdir(pdf_dir) if f.endswith('.pdf')]\n",
    "\tfor pdf_file in pdf_files:\n",
    "\t\tpdf_path = os.path.join(pdf_dir, pdf_file)\n",
    "\t\tmd_path = os.path.join(md_dir, f\"{os.path.splitext(pdf_file)[0]}.md\")\n",
    "\n",
    "\t\tif not os.path.exists(md_path):\n",
    "\t\t\tprint(f\"Converting `{pdf_file}` to Markdown ...\")\n",
    "\n",
    "\t\t\tdoc_converter = DocumentConverter()\n",
    "\t\t\tresult = doc_converter.convert(source=pdf_path)\n",
    "\t\t\t\n",
    "\t\t\twith open(md_path, 'w', encoding='utf-8') as md_file:\n",
    "\t\t\t\tmd_file.write(result.document.export_to_markdown())"
   ]
  },
  {
   "cell_type": "markdown",
   "metadata": {},
   "source": [
    "### Execute the convert_pdfs_to_markdown function\n",
    "\n",
    "Convert all PDFs in the specified input directory to Markdown format and saving them in the output directory. The function prints messages to indicate the progress of the conversion process."
   ]
  },
  {
   "cell_type": "code",
   "execution_count": 8,
   "metadata": {},
   "outputs": [
    {
     "name": "stdout",
     "output_type": "stream",
     "text": [
      "Converting `internet-history-09.pdf` to Markdown ...\n"
     ]
    },
    {
     "name": "stderr",
     "output_type": "stream",
     "text": [
      "/Users/vcaldeir/Code/multi-agent-governance/.venv/lib/python3.11/site-packages/torch/utils/data/dataloader.py:683: UserWarning: 'pin_memory' argument is set as true but not supported on MPS now, then device pinned memory won't be used.\n",
      "  warnings.warn(warn_msg)\n"
     ]
    }
   ],
   "source": [
    "convert_pdfs_to_markdown(dir_input, dir_output)"
   ]
  },
  {
   "cell_type": "markdown",
   "metadata": {},
   "source": [
    "### Initializes models and clients required for generating the vector database.\n",
    "\n",
    "We create an embedding model using the HuggingFace library then read the converted Markdown documents from the output directory and loads them into a SimpleDirectoryReader.\n",
    "\n",
    "Next, the code initializes a ChromaDB client and creates or retrieves a collection within the database. It sets up a vector store using the ChromaDB collection and a storage context with default settings. Finally, it creates a VectorStoreIndex from the loaded documents, using the embedding model for vectorization. The process concludes with a print statement indicating that the vector database has been successfully generated."
   ]
  },
  {
   "cell_type": "code",
   "execution_count": 11,
   "metadata": {},
   "outputs": [
    {
     "name": "stdout",
     "output_type": "stream",
     "text": [
      "Vector database successfully generated!\n"
     ]
    }
   ],
   "source": [
    "from llama_index.embeddings.huggingface import HuggingFaceEmbedding\n",
    "from llama_index.vector_stores.chroma import ChromaVectorStore\n",
    "from llama_index.core import (\n",
    "    SimpleDirectoryReader,\n",
    "    VectorStoreIndex,\n",
    "    StorageContext,\n",
    "    load_index_from_storage,\n",
    ")\n",
    "import chromadb\n",
    "\n",
    "chroma_embed_model = HuggingFaceEmbedding(model_name=\"BAAI/bge-small-en-v1.5\")\n",
    "documents = SimpleDirectoryReader(input_dir=dir_output).load_data()\n",
    "\n",
    "chroma_client = chromadb.PersistentClient(path = dir_chromadb)\n",
    "chroma_collection = chroma_client.get_or_create_collection(name=chromadb_collection)\n",
    "\n",
    "vector_store = ChromaVectorStore(chroma_collection=chroma_collection)\n",
    "storage_context = StorageContext.from_defaults(vector_store=vector_store)\n",
    "index = VectorStoreIndex.from_documents(documents, storage_context=storage_context, embed_model=chroma_embed_model)\n",
    "\n",
    "print(\"Vector database successfully generated!\")"
   ]
  },
  {
   "cell_type": "markdown",
   "metadata": {},
   "source": [
    "### Test a simple query to the vector database"
   ]
  },
  {
   "cell_type": "code",
   "execution_count": null,
   "metadata": {},
   "outputs": [
    {
     "name": "stdout",
     "output_type": "stream",
     "text": [
      "Q: Who published the first paper on packet switching theory?\n",
      "A: Leonard Kleinrock at MIT published the first paper on packet switching theory in July 1961.\n",
      "\n",
      "Sources:\n"
     ]
    },
    {
     "data": {
      "text/plain": [
       "[(\"There is the operations and management aspect of a global and complex operational infrastructure. There is the social aspect, which resulted in a broad community of Internauts working together to create and evolve the technology. And there is the commercialization aspect, resulting in an extremely effective transition of research results into a broadly deployed and available information infrastructure.\\n\\nThe Internet today is a widespread information infrastructure, the initial prototype of what is often called the National (or Global or Galactic) Information Infrastructure. Its history is complex and involves many aspects - technological, organizational, and community. And its influence reaches not only to the technical fields of computer communications but throughout society as we move toward increasing use of online tools to accomplish electronic commerce, information acquisition, and community operations.\\n\\n## 2. ORIGINS OF THE INTERNET\\n\\nThe first recorded description of the social interactions that could be enabled through networking was a series of memos written by J.C.R. Licklider of MIT in August 1962 discussing his 'Galactic Network' concept [9]. He envisioned a globally interconnected set of computers through which everyone could quickly access data and programs from any site. In spirit, the concept was very much like the Internet of today. Licklider was the first head of the computer research program at DARPA 5 , starting in October 1962. While at DARPA he convinced his successors at DARPA, Ivan Sutherland, Bob Taylor, and MIT researcher Lawrence G. Roberts, of the importance of this networking concept.\\n\\nLeonard Kleinrock at MIT published the first paper on packet switching theory in July 1961 [6] and the first book on the subject in 1964 [7]. Kleinrock convinced Roberts of the theoretical feasibility of communications using packets rather than circuits, which was a major step along the path towards computer networking. The other key step was to make the computers talk together. To explore this, in 1965 working with Thomas Merrill, Roberts connected the TX-2 computer in Mass. to the Q-32 in California with a low speed dial-up telephone line creating the first (however small) wide-area computer network ever built [10]. The result of this experiment was the realization that the timeshared computers could work well together, running programs and retrieving data as necessary on the remote machine, but that the circuit switched telephone system was totally inadequate for the job. Kleinrock's argument for packet switching was confirmed.\\n\\n5 The Advanced Research Projects Agency (ARPA) changed its name to Defense Advanced Research Projects Agency (DARPA) in 1971, then back to ARPA in 1993, and back to DARPA in 1996. We refer throughout to DARPA, the current name.\\n\\nIn late 1966 Roberts went to DARPA to develop the computer network concept and quickly put together his plan for the 'ARPANET', publishing it in 1967 [11]. At the conference where he presented the paper, there was also a paper on a packet network concept from the UK by Donald Davies and Roger Scantlebury of NPL. Scantlebury told Roberts about the NPL work as well as that of Paul Baran and others at RAND. The RAND group had written a paper on packet switching networks for secure voice in the military in 1964 [1]. It happened that the work at MIT (19611967), at RAND (1962-1965), and at NPL (1964-1967) had all proceeded in parallel without any of the researchers knowing about the other work. The word 'packet' was adopted from the work at NPL and the proposed line speed to be used in the ARPANET design was upgraded from 2.4 kbps to 50 kbps 6 .\\n\\nIn August 1968, after Roberts and the DARPA funded community had refined the overall structure and specifications for the ARPANET, an RFQ was released by DARPA for the development of one of the key components, the packet switches called Interface Message Processors (IMP's). The RFQ was won in December 1968 by a group headed by Frank Heart at Bolt Beranek and Newman (BBN). As the BBN team worked on the IMP's with Bob Kahn playing a major role in the overall ARPANET architectural design, the network topology and economics were designed and optimized by Roberts working with Howard Frank and his team at Network Analysis Corporation, and the network measurement system was prepared by Kleinrock's team at UCLA 7 .\\n\\nDue to Kleinrock's early development of packet switching theory and his focus on analysis, design and measurement, his Network Measurement Center at UCLA was selected to be the first node on the ARPANET.\",\n",
       "  {'file_path': '/Users/vcaldeir/Code/multi-agent-governance/data/output/internet-history-09.md',\n",
       "   'file_name': 'internet-history-09.md',\n",
       "   'file_size': 58944,\n",
       "   'creation_date': '2025-07-04',\n",
       "   'last_modified_date': '2025-07-04'}),\n",
       " (\"## A Brief History of the Internet\\n\\nBarry M. Leiner* Former Director\\n\\nResearch Institute for Advanced Computer Science\\n\\nRobert E. Kahn President CNRI\\n\\nJon Postel* Former Director USC ISI\\n\\nDavid D. Clark MIT\\n\\nSenior Research Scientist\\n\\nDaniel C. Lynch Founder CyberCash Inc, Interop\\n\\nStephen Wolff Business Development Manager Cisco\\n\\nVinton G. Cerf\\n\\nChief Internet Evangelist Google\\n\\nLeonard Kleinrock Professor of Computer Science UCLA\\n\\nLarry G. Roberts Chairman  and CEO Anagran, Inc\\n\\nThis article is an editorial note submitted to CCR. It has NOT been peer reviewed. The authors take full responsibility for this article's technical content. Comments can be posted through CCR Online.\\n\\n## ABSTRACT\\n\\nThis paper was first published online by the Internet Society in December 2003 1 and is being re-published in ACM SIGCOMM Computer Communication Review because of its historic import. It was written at the urging of its primary editor, the late Barry Leiner. He felt that a factual rendering of the events and activities associated with the development of the early Internet would be a valuable contribution. The contributing authors did their best to incorporate only factual material into this document. There are sure to be many details that have not been captured in the body of the document but it remains one of the most accurate renderings of the early period of development available.\\n\\n## Categories and Subject Descriptors\\n\\nC.2.1 [ Network Architecture and Design ]: Packet-switching networks.\\n\\n## General Terms\\n\\nDesign, Experimentation, Management.\\n\\n## Keywords\\n\\nInternet, History.\\n\\n## 1. INTRODUCTION\\n\\nThe Internet has revolutionized the computer and communications world like nothing before. The invention of the telegraph, telephone, radio, and  computer  set  the stage for this unprecedented integration of capabilities. The Internet is at once a\\n\\n* Deceased\\n\\n1 http://www.isoc.org/internet/history/brief.shtml\\n\\nworld-wide broadcasting capability, a mechanism for information dissemination, and a medium for collaboration and interaction between individuals and their computers without regard for geographic location.\\n\\nThe Internet represents one of the most successful examples of the benefits of sustained investment and commitment to research and development of information infrastructure. Beginning with the early research in packet switching, the government, industry and academia have been partners in evolving and deploying this exciting new technology. Today, terms like 'bleiner@computer.org'  and  'http://www.acm.org'  trip  lightly off  the tongue of the random person on the street 2 .\\n\\nThis is intended to be a brief, necessarily cursory and incomplete history. Much material currently exists about the Internet, covering history, technology, and usage. A trip to almost any bookstore will find shelves of material written about the Internet 3 .\\n\\nIn this paper 4 , several of us involved in the development and evolution of the Internet share our views of its origins and history.\\n\\n- 2 Perhaps this is an exaggeration based on the lead author's residence in Silicon Valley.\\n- 3 On a recent trip to a Tokyo bookstore, one of the authors counted 14 English language magazines devoted to the Internet.\\n- 4 An abbreviated version of this article appears in the 50th anniversary issue of the CACM , Feb. 97. The authors would like to express their appreciation to Andy Rosenbloom, CACM Senior Editor, for both instigating the writing of this article and his invaluable assistance in editing both this and the abbreviated version.\\n\\nVolume 39, Number 5, October 2009\\n\\nThis history revolves around four distinct aspects. There is the technological evolution that began with early research on packet switching and the ARPANET (and related technologies), and where current research continues to expand the horizons of the infrastructure along several dimensions, such as scale, performance, and higher level functionality. There is the operations and management aspect of a global and complex operational infrastructure. There is the social aspect, which resulted in a broad community of Internauts working together to create and evolve the technology. And there is the commercialization aspect, resulting in an extremely effective transition of research results into a broadly deployed and available information infrastructure.\\n\\nThe Internet today is a widespread information infrastructure, the initial prototype of what is often called the National (or Global or Galactic) Information Infrastructure. Its history is complex and involves many aspects - technological, organizational, and community. And its influence reaches not only to the technical fields of computer communications but throughout society as we move toward increasing use of online tools to accomplish electronic commerce, information acquisition, and community operations.\\n\\n## 2. ORIGINS OF THE INTERNET\\n\\nThe first recorded description of the social interactions that could be enabled through networking was a series of memos written by J.C.R.\",\n",
       "  {'file_path': '/Users/vcaldeir/Code/multi-agent-governance/data/output/internet-history-09.md',\n",
       "   'file_name': 'internet-history-09.md',\n",
       "   'file_size': 58944,\n",
       "   'creation_date': '2025-07-04',\n",
       "   'last_modified_date': '2025-07-04'})]"
      ]
     },
     "metadata": {},
     "output_type": "display_data"
    }
   ],
   "source": [
    "test_query = \"Who published the first paper on packet switching theory?\"\n",
    "result = index.as_query_engine(llm=llm).query(test_query)\n",
    "print(f\"Q: {test_query}\\nA: {result.response.strip()}\\n\\nSources:\")\n",
    "display([(n.text, n.metadata) for n in result.source_nodes])"
   ]
  },
  {
   "cell_type": "code",
   "execution_count": 13,
   "metadata": {},
   "outputs": [],
   "source": [
    "from tavily import AsyncTavilyClient\n",
    "from llama_index.core.workflow import Context\n",
    "\n",
    "\n",
    "async def search_web(query: str) -> str:\n",
    "    \"\"\"Useful for using the web to answer questions.\"\"\"\n",
    "    client = AsyncTavilyClient(api_key=os.environ.get(\"TAVILY_SEARCH_API_KEY\"))\n",
    "    return str(await client.search(query))\n",
    "\n",
    "async def query_data(query: str) -> str:\n",
    "    \"\"\"Query local vector database for information on internet history.\"\"\"\n",
    "    engine = index.as_query_engine(llm=llm)\n",
    "    formatted_output = f\"Q: {query}\\nA: {result.response.strip()}\\n\\nSources:\\n{[(n.text, n.metadata) for n in result.source_nodes]}\"\n",
    "    return str(formatted_output)\n",
    "\n",
    "async def record_notes(ctx: Context, notes: str, notes_title: str) -> str:\n",
    "    \"\"\"Useful for recording notes on a given topic. Your input should be notes with a title to save the notes under.\"\"\"\n",
    "    current_state = await ctx.get(\"state\")\n",
    "    if \"research_notes\" not in current_state:\n",
    "        current_state[\"research_notes\"] = {}\n",
    "    current_state[\"research_notes\"][notes_title] = notes\n",
    "    await ctx.set(\"state\", current_state)\n",
    "    return \"Notes recorded.\"\n",
    "\n",
    "\n",
    "async def write_report(ctx: Context, report_content: str) -> str:\n",
    "    \"\"\"Useful for writing a report on a given topic. Your input should be a markdown formatted report.\"\"\"\n",
    "    current_state = await ctx.get(\"state\")\n",
    "    current_state[\"report_content\"] = report_content\n",
    "    await ctx.set(\"state\", current_state)\n",
    "    return \"Report written.\"\n",
    "\n",
    "\n",
    "async def review_report(ctx: Context, review: str) -> str:\n",
    "    \"\"\"Useful for reviewing a report and providing feedback. Your input should be a review of the report.\"\"\"\n",
    "    current_state = await ctx.get(\"state\")\n",
    "    current_state[\"review\"] = review\n",
    "    await ctx.set(\"state\", current_state)\n",
    "    return \"Report reviewed.\""
   ]
  },
  {
   "cell_type": "markdown",
   "metadata": {},
   "source": [
    "With our tools defined, we can now create our agents.\n",
    "\n",
    "If the LLM you are using supports tool calling, you can use the `FunctionAgent` class. Otherwise, you can use the `ReActAgent` class.\n",
    "\n",
    "Here, the name and description of each agent is used so that the system knows what each agent is responsible for and when to hand off control to the next agent."
   ]
  },
  {
   "cell_type": "code",
   "execution_count": 18,
   "metadata": {},
   "outputs": [],
   "source": [
    "from llama_index.core.agent.workflow import FunctionAgent, ReActAgent\n",
    "\n",
    "test_agent_search = ReActAgent(\n",
    "    tools=[search_web],\n",
    "    llm=llm,\n",
    "    system_prompt=\"You are a helpful assistant that can search the web for information.\",\n",
    ")\n",
    "\n",
    "test_agent_query = ReActAgent(\n",
    "    tools=[query_data],\n",
    "    llm=llm,\n",
    "    system_prompt=(\n",
    "        \"You are a helpful assistant that can query a local vector database for information on internet history. \"\n",
    "        \"You should first search the local vertor database with the query_data tool for information on the topic. \"\n",
    "        \"You should return the response in a markdown format including the question, answer, and sources. \"\n",
    "    ),\n",
    ")\n",
    "\n",
    "research_agent = ReActAgent(\n",
    "    name=\"ResearchAgent\",\n",
    "    description=\"Useful for searching the web for information on a given topic and recording notes on the topic.\",\n",
    "    system_prompt=(\n",
    "        \"You are the ResearchAgent that can search local data or on the web for information on a given topic and record notes on the topic.\"\n",
    "        \"You should first search the local vector database with the query_data tool for information on the topic if relevant to the information stored. \"\n",
    "        \"If not sufficient, you should then search web with the search_web tool for information on the topic. \"\n",
    "        \"You should always record notes on the topic using the record_notes tool. \"\n",
    "        \"Once notes are recorded and once you are satisfied, you should always hand off control to the WriteAgent to write a report on the topic. \"\n",
    "        \"You should have at least some notes on a topic before handing off control to the WriteAgent.\"\n",
    "    ),\n",
    "    llm=llm,\n",
    "    tools=[query_data, search_web, record_notes],\n",
    "    can_handoff_to=[\"WriteAgent\"],\n",
    ")\n",
    "\n",
    "write_agent = ReActAgent(\n",
    "    name=\"WriteAgent\",\n",
    "    description=\"Useful for writing a report on a given topic.\",\n",
    "    system_prompt=(\n",
    "        \"You are the WriteAgent that can write a report on a given topic. \"\n",
    "        \"Your report should be in a markdown format. The content should be grounded in the research notes. \"\n",
    "        \"Once the report is written, you should get feedback at least once from the ReviewAgent.\"\n",
    "    ),\n",
    "    llm=llm,\n",
    "    tools=[write_report],\n",
    "    can_handoff_to=[\"ReviewAgent\", \"ResearchAgent\"],\n",
    ")\n",
    "\n",
    "review_agent = ReActAgent(\n",
    "    name=\"ReviewAgent\",\n",
    "    description=\"Useful for reviewing a report and providing feedback.\",\n",
    "    system_prompt=(\n",
    "        \"You are the ReviewAgent that can review the write report and provide feedback. \"\n",
    "        \"Your review should either approve the current report or request changes for the WriteAgent to implement. \"\n",
    "        \"If you have feedback that requires changes, you should hand off control to the WriteAgent to implement the changes after submitting the review.\"\n",
    "    ),\n",
    "    llm=llm,\n",
    "    tools=[review_report],\n",
    "    can_handoff_to=[\"WriteAgent\"],\n",
    ")"
   ]
  },
  {
   "cell_type": "markdown",
   "metadata": {},
   "source": [
    "## Testing a single agent\n",
    "\n",
    "Use the test agent to ensure that agent and tools work with the chosen model"
   ]
  },
  {
   "cell_type": "code",
   "execution_count": 15,
   "metadata": {},
   "outputs": [
    {
     "name": "stdout",
     "output_type": "stream",
     "text": [
      "The weather in San Francisco is currently 57°F and partly cloudy, with a west wind at 10 mph and 77% humidity.\n"
     ]
    }
   ],
   "source": [
    "response = await test_agent_search.run(user_msg=\"What is the weather in San Francisco?\")\n",
    "print(str(response))"
   ]
  },
  {
   "cell_type": "code",
   "execution_count": 16,
   "metadata": {},
   "outputs": [
    {
     "name": "stdout",
     "output_type": "stream",
     "text": [
      "Leonard Kleinrock at MIT published the first paper on packet switching theory in July 1961.\n"
     ]
    }
   ],
   "source": [
    "response = await test_agent_query.run(user_msg=\"Who published the first paper on packet switching theory?\")\n",
    "print(str(response))"
   ]
  },
  {
   "cell_type": "markdown",
   "metadata": {},
   "source": [
    "## Running the Workflow\n",
    "\n",
    "With our agents defined, we can create our `AgentWorkflow` and run it."
   ]
  },
  {
   "cell_type": "code",
   "execution_count": 19,
   "metadata": {},
   "outputs": [],
   "source": [
    "from llama_index.core.agent.workflow import AgentWorkflow\n",
    "\n",
    "agent_workflow = AgentWorkflow(\n",
    "    agents=[research_agent, write_agent, review_agent],\n",
    "    root_agent=research_agent.name,\n",
    "    initial_state={\n",
    "        \"research_notes\": {},\n",
    "        \"report_content\": \"Not written yet.\",\n",
    "        \"review\": \"Review required.\",\n",
    "    },\n",
    ")"
   ]
  },
  {
   "cell_type": "markdown",
   "metadata": {},
   "source": [
    "As the workflow is running, we will stream the events to get an idea of what is happening under the hood."
   ]
  },
  {
   "cell_type": "code",
   "execution_count": 20,
   "metadata": {},
   "outputs": [
    {
     "name": "stdout",
     "output_type": "stream",
     "text": [
      "\n",
      "==================================================\n",
      "🤖 Agent: ResearchAgent\n",
      "==================================================\n",
      "\n",
      "📤 Output: Thought: The current language of the user is: english. I need to use a tool to help me answer the question. The user wants a report on the history of the internet, covering its development, the web's development, and its evolution in the 21st century. I should use the `query_data` tool to gather this information.\n",
      "Action: query_data\n",
      "Action Input: {\"query\": \"history of the internet, development of the web, internet in the 21st century\"}\n",
      "🛠️  Planning to use tools: ['query_data']\n",
      "🔨 Calling Tool: query_data\n",
      "  With arguments: {'query': 'history of the internet, development of the web, internet in the 21st century'}\n",
      "🔧 Tool Result (query_data):\n",
      "  Arguments: {'query': 'history of the internet, development of the web, internet in the 21st century'}\n",
      "  Output: Q: history of the internet, development of the web, internet in the 21st century\n",
      "A: Leonard Kleinrock at MIT published the first paper on packet switching theory in July 1961.\n",
      "\n",
      "Sources:\n",
      "[(\"There is the operations and management aspect of a global and complex operational infrastructure. There is the social aspect, which resulted in a broad community of Internauts working together to create and evolve the technology. And there is the commercialization aspect, resulting in an extremely effective transition of research results into a broadly deployed and available information infrastructure.\\n\\nThe Internet today is a widespread information infrastructure, the initial prototype of what is often called the National (or Global or Galactic) Information Infrastructure. Its history is complex and involves many aspects - technological, organizational, and community. And its influence reaches not only to the technical fields of computer communications but throughout society as we move toward increasing use of online tools to accomplish electronic commerce, information acquisition, and community operations.\\n\\n## 2. ORIGINS OF THE INTERNET\\n\\nThe first recorded description of the social interactions that could be enabled through networking was a series of memos written by J.C.R. Licklider of MIT in August 1962 discussing his 'Galactic Network' concept [9]. He envisioned a globally interconnected set of computers through which everyone could quickly access data and programs from any site. In spirit, the concept was very much like the Internet of today. Licklider was the first head of the computer research program at DARPA 5 , starting in October 1962. While at DARPA he convinced his successors at DARPA, Ivan Sutherland, Bob Taylor, and MIT researcher Lawrence G. Roberts, of the importance of this networking concept.\\n\\nLeonard Kleinrock at MIT published the first paper on packet switching theory in July 1961 [6] and the first book on the subject in 1964 [7]. Kleinrock convinced Roberts of the theoretical feasibility of communications using packets rather than circuits, which was a major step along the path towards computer networking. The other key step was to make the computers talk together. To explore this, in 1965 working with Thomas Merrill, Roberts connected the TX-2 computer in Mass. to the Q-32 in California with a low speed dial-up telephone line creating the first (however small) wide-area computer network ever built [10]. The result of this experiment was the realization that the timeshared computers could work well together, running programs and retrieving data as necessary on the remote machine, but that the circuit switched telephone system was totally inadequate for the job. Kleinrock's argument for packet switching was confirmed.\\n\\n5 The Advanced Research Projects Agency (ARPA) changed its name to Defense Advanced Research Projects Agency (DARPA) in 1971, then back to ARPA in 1993, and back to DARPA in 1996. We refer throughout to DARPA, the current name.\\n\\nIn late 1966 Roberts went to DARPA to develop the computer network concept and quickly put together his plan for the 'ARPANET', publishing it in 1967 [11]. At the conference where he presented the paper, there was also a paper on a packet network concept from the UK by Donald Davies and Roger Scantlebury of NPL. Scantlebury told Roberts about the NPL work as well as that of Paul Baran and others at RAND. The RAND group had written a paper on packet switching networks for secure voice in the military in 1964 [1]. It happened that the work at MIT (19611967), at RAND (1962-1965), and at NPL (1964-1967) had all proceeded in parallel without any of the researchers knowing about the other work. The word 'packet' was adopted from the work at NPL and the proposed line speed to be used in the ARPANET design was upgraded from 2.4 kbps to 50 kbps 6 .\\n\\nIn August 1968, after Roberts and the DARPA funded community had refined the overall structure and specifications for the ARPANET, an RFQ was released by DARPA for the development of one of the key components, the packet switches called Interface Message Processors (IMP's). The RFQ was won in December 1968 by a group headed by Frank Heart at Bolt Beranek and Newman (BBN). As the BBN team worked on the IMP's with Bob Kahn playing a major role in the overall ARPANET architectural design, the network topology and economics were designed and optimized by Roberts working with Howard Frank and his team at Network Analysis Corporation, and the network measurement system was prepared by Kleinrock's team at UCLA 7 .\\n\\nDue to Kleinrock's early development of packet switching theory and his focus on analysis, design and measurement, his Network Measurement Center at UCLA was selected to be the first node on the ARPANET.\", {'file_path': '/Users/vcaldeir/Code/multi-agent-governance/data/output/internet-history-09.md', 'file_name': 'internet-history-09.md', 'file_size': 58944, 'creation_date': '2025-07-04', 'last_modified_date': '2025-07-04'}), (\"## A Brief History of the Internet\\n\\nBarry M. Leiner* Former Director\\n\\nResearch Institute for Advanced Computer Science\\n\\nRobert E. Kahn President CNRI\\n\\nJon Postel* Former Director USC ISI\\n\\nDavid D. Clark MIT\\n\\nSenior Research Scientist\\n\\nDaniel C. Lynch Founder CyberCash Inc, Interop\\n\\nStephen Wolff Business Development Manager Cisco\\n\\nVinton G. Cerf\\n\\nChief Internet Evangelist Google\\n\\nLeonard Kleinrock Professor of Computer Science UCLA\\n\\nLarry G. Roberts Chairman  and CEO Anagran, Inc\\n\\nThis article is an editorial note submitted to CCR. It has NOT been peer reviewed. The authors take full responsibility for this article's technical content. Comments can be posted through CCR Online.\\n\\n## ABSTRACT\\n\\nThis paper was first published online by the Internet Society in December 2003 1 and is being re-published in ACM SIGCOMM Computer Communication Review because of its historic import. It was written at the urging of its primary editor, the late Barry Leiner. He felt that a factual rendering of the events and activities associated with the development of the early Internet would be a valuable contribution. The contributing authors did their best to incorporate only factual material into this document. There are sure to be many details that have not been captured in the body of the document but it remains one of the most accurate renderings of the early period of development available.\\n\\n## Categories and Subject Descriptors\\n\\nC.2.1 [ Network Architecture and Design ]: Packet-switching networks.\\n\\n## General Terms\\n\\nDesign, Experimentation, Management.\\n\\n## Keywords\\n\\nInternet, History.\\n\\n## 1. INTRODUCTION\\n\\nThe Internet has revolutionized the computer and communications world like nothing before. The invention of the telegraph, telephone, radio, and  computer  set  the stage for this unprecedented integration of capabilities. The Internet is at once a\\n\\n* Deceased\\n\\n1 http://www.isoc.org/internet/history/brief.shtml\\n\\nworld-wide broadcasting capability, a mechanism for information dissemination, and a medium for collaboration and interaction between individuals and their computers without regard for geographic location.\\n\\nThe Internet represents one of the most successful examples of the benefits of sustained investment and commitment to research and development of information infrastructure. Beginning with the early research in packet switching, the government, industry and academia have been partners in evolving and deploying this exciting new technology. Today, terms like 'bleiner@computer.org'  and  'http://www.acm.org'  trip  lightly off  the tongue of the random person on the street 2 .\\n\\nThis is intended to be a brief, necessarily cursory and incomplete history. Much material currently exists about the Internet, covering history, technology, and usage. A trip to almost any bookstore will find shelves of material written about the Internet 3 .\\n\\nIn this paper 4 , several of us involved in the development and evolution of the Internet share our views of its origins and history.\\n\\n- 2 Perhaps this is an exaggeration based on the lead author's residence in Silicon Valley.\\n- 3 On a recent trip to a Tokyo bookstore, one of the authors counted 14 English language magazines devoted to the Internet.\\n- 4 An abbreviated version of this article appears in the 50th anniversary issue of the CACM , Feb. 97. The authors would like to express their appreciation to Andy Rosenbloom, CACM Senior Editor, for both instigating the writing of this article and his invaluable assistance in editing both this and the abbreviated version.\\n\\nVolume 39, Number 5, October 2009\\n\\nThis history revolves around four distinct aspects. There is the technological evolution that began with early research on packet switching and the ARPANET (and related technologies), and where current research continues to expand the horizons of the infrastructure along several dimensions, such as scale, performance, and higher level functionality. There is the operations and management aspect of a global and complex operational infrastructure. There is the social aspect, which resulted in a broad community of Internauts working together to create and evolve the technology. And there is the commercialization aspect, resulting in an extremely effective transition of research results into a broadly deployed and available information infrastructure.\\n\\nThe Internet today is a widespread information infrastructure, the initial prototype of what is often called the National (or Global or Galactic) Information Infrastructure. Its history is complex and involves many aspects - technological, organizational, and community. And its influence reaches not only to the technical fields of computer communications but throughout society as we move toward increasing use of online tools to accomplish electronic commerce, information acquisition, and community operations.\\n\\n## 2. ORIGINS OF THE INTERNET\\n\\nThe first recorded description of the social interactions that could be enabled through networking was a series of memos written by J.C.R.\", {'file_path': '/Users/vcaldeir/Code/multi-agent-governance/data/output/internet-history-09.md', 'file_name': 'internet-history-09.md', 'file_size': 58944, 'creation_date': '2025-07-04', 'last_modified_date': '2025-07-04'})]\n",
      "📤 Output: Thought: The current language of the user is: english. I have some information about the early history of the internet (packet switching, ARPANET), but I am missing details on the development of the World Wide Web and the internet's evolution in the 21st century. I need to perform another search to gather this missing information.\n",
      "Action: query_data\n",
      "Action Input: {'query': 'development of the World Wide Web, internet in the 21st century'}\n",
      "🛠️  Planning to use tools: ['query_data']\n",
      "🔨 Calling Tool: query_data\n",
      "  With arguments: {'query': 'development of the World Wide Web, internet in the 21st century'}\n",
      "🔧 Tool Result (query_data):\n",
      "  Arguments: {'query': 'development of the World Wide Web, internet in the 21st century'}\n",
      "  Output: Q: development of the World Wide Web, internet in the 21st century\n",
      "A: Leonard Kleinrock at MIT published the first paper on packet switching theory in July 1961.\n",
      "\n",
      "Sources:\n",
      "[(\"There is the operations and management aspect of a global and complex operational infrastructure. There is the social aspect, which resulted in a broad community of Internauts working together to create and evolve the technology. And there is the commercialization aspect, resulting in an extremely effective transition of research results into a broadly deployed and available information infrastructure.\\n\\nThe Internet today is a widespread information infrastructure, the initial prototype of what is often called the National (or Global or Galactic) Information Infrastructure. Its history is complex and involves many aspects - technological, organizational, and community. And its influence reaches not only to the technical fields of computer communications but throughout society as we move toward increasing use of online tools to accomplish electronic commerce, information acquisition, and community operations.\\n\\n## 2. ORIGINS OF THE INTERNET\\n\\nThe first recorded description of the social interactions that could be enabled through networking was a series of memos written by J.C.R. Licklider of MIT in August 1962 discussing his 'Galactic Network' concept [9]. He envisioned a globally interconnected set of computers through which everyone could quickly access data and programs from any site. In spirit, the concept was very much like the Internet of today. Licklider was the first head of the computer research program at DARPA 5 , starting in October 1962. While at DARPA he convinced his successors at DARPA, Ivan Sutherland, Bob Taylor, and MIT researcher Lawrence G. Roberts, of the importance of this networking concept.\\n\\nLeonard Kleinrock at MIT published the first paper on packet switching theory in July 1961 [6] and the first book on the subject in 1964 [7]. Kleinrock convinced Roberts of the theoretical feasibility of communications using packets rather than circuits, which was a major step along the path towards computer networking. The other key step was to make the computers talk together. To explore this, in 1965 working with Thomas Merrill, Roberts connected the TX-2 computer in Mass. to the Q-32 in California with a low speed dial-up telephone line creating the first (however small) wide-area computer network ever built [10]. The result of this experiment was the realization that the timeshared computers could work well together, running programs and retrieving data as necessary on the remote machine, but that the circuit switched telephone system was totally inadequate for the job. Kleinrock's argument for packet switching was confirmed.\\n\\n5 The Advanced Research Projects Agency (ARPA) changed its name to Defense Advanced Research Projects Agency (DARPA) in 1971, then back to ARPA in 1993, and back to DARPA in 1996. We refer throughout to DARPA, the current name.\\n\\nIn late 1966 Roberts went to DARPA to develop the computer network concept and quickly put together his plan for the 'ARPANET', publishing it in 1967 [11]. At the conference where he presented the paper, there was also a paper on a packet network concept from the UK by Donald Davies and Roger Scantlebury of NPL. Scantlebury told Roberts about the NPL work as well as that of Paul Baran and others at RAND. The RAND group had written a paper on packet switching networks for secure voice in the military in 1964 [1]. It happened that the work at MIT (19611967), at RAND (1962-1965), and at NPL (1964-1967) had all proceeded in parallel without any of the researchers knowing about the other work. The word 'packet' was adopted from the work at NPL and the proposed line speed to be used in the ARPANET design was upgraded from 2.4 kbps to 50 kbps 6 .\\n\\nIn August 1968, after Roberts and the DARPA funded community had refined the overall structure and specifications for the ARPANET, an RFQ was released by DARPA for the development of one of the key components, the packet switches called Interface Message Processors (IMP's). The RFQ was won in December 1968 by a group headed by Frank Heart at Bolt Beranek and Newman (BBN). As the BBN team worked on the IMP's with Bob Kahn playing a major role in the overall ARPANET architectural design, the network topology and economics were designed and optimized by Roberts working with Howard Frank and his team at Network Analysis Corporation, and the network measurement system was prepared by Kleinrock's team at UCLA 7 .\\n\\nDue to Kleinrock's early development of packet switching theory and his focus on analysis, design and measurement, his Network Measurement Center at UCLA was selected to be the first node on the ARPANET.\", {'file_path': '/Users/vcaldeir/Code/multi-agent-governance/data/output/internet-history-09.md', 'file_name': 'internet-history-09.md', 'file_size': 58944, 'creation_date': '2025-07-04', 'last_modified_date': '2025-07-04'}), (\"## A Brief History of the Internet\\n\\nBarry M. Leiner* Former Director\\n\\nResearch Institute for Advanced Computer Science\\n\\nRobert E. Kahn President CNRI\\n\\nJon Postel* Former Director USC ISI\\n\\nDavid D. Clark MIT\\n\\nSenior Research Scientist\\n\\nDaniel C. Lynch Founder CyberCash Inc, Interop\\n\\nStephen Wolff Business Development Manager Cisco\\n\\nVinton G. Cerf\\n\\nChief Internet Evangelist Google\\n\\nLeonard Kleinrock Professor of Computer Science UCLA\\n\\nLarry G. Roberts Chairman  and CEO Anagran, Inc\\n\\nThis article is an editorial note submitted to CCR. It has NOT been peer reviewed. The authors take full responsibility for this article's technical content. Comments can be posted through CCR Online.\\n\\n## ABSTRACT\\n\\nThis paper was first published online by the Internet Society in December 2003 1 and is being re-published in ACM SIGCOMM Computer Communication Review because of its historic import. It was written at the urging of its primary editor, the late Barry Leiner. He felt that a factual rendering of the events and activities associated with the development of the early Internet would be a valuable contribution. The contributing authors did their best to incorporate only factual material into this document. There are sure to be many details that have not been captured in the body of the document but it remains one of the most accurate renderings of the early period of development available.\\n\\n## Categories and Subject Descriptors\\n\\nC.2.1 [ Network Architecture and Design ]: Packet-switching networks.\\n\\n## General Terms\\n\\nDesign, Experimentation, Management.\\n\\n## Keywords\\n\\nInternet, History.\\n\\n## 1. INTRODUCTION\\n\\nThe Internet has revolutionized the computer and communications world like nothing before. The invention of the telegraph, telephone, radio, and  computer  set  the stage for this unprecedented integration of capabilities. The Internet is at once a\\n\\n* Deceased\\n\\n1 http://www.isoc.org/internet/history/brief.shtml\\n\\nworld-wide broadcasting capability, a mechanism for information dissemination, and a medium for collaboration and interaction between individuals and their computers without regard for geographic location.\\n\\nThe Internet represents one of the most successful examples of the benefits of sustained investment and commitment to research and development of information infrastructure. Beginning with the early research in packet switching, the government, industry and academia have been partners in evolving and deploying this exciting new technology. Today, terms like 'bleiner@computer.org'  and  'http://www.acm.org'  trip  lightly off  the tongue of the random person on the street 2 .\\n\\nThis is intended to be a brief, necessarily cursory and incomplete history. Much material currently exists about the Internet, covering history, technology, and usage. A trip to almost any bookstore will find shelves of material written about the Internet 3 .\\n\\nIn this paper 4 , several of us involved in the development and evolution of the Internet share our views of its origins and history.\\n\\n- 2 Perhaps this is an exaggeration based on the lead author's residence in Silicon Valley.\\n- 3 On a recent trip to a Tokyo bookstore, one of the authors counted 14 English language magazines devoted to the Internet.\\n- 4 An abbreviated version of this article appears in the 50th anniversary issue of the CACM , Feb. 97. The authors would like to express their appreciation to Andy Rosenbloom, CACM Senior Editor, for both instigating the writing of this article and his invaluable assistance in editing both this and the abbreviated version.\\n\\nVolume 39, Number 5, October 2009\\n\\nThis history revolves around four distinct aspects. There is the technological evolution that began with early research on packet switching and the ARPANET (and related technologies), and where current research continues to expand the horizons of the infrastructure along several dimensions, such as scale, performance, and higher level functionality. There is the operations and management aspect of a global and complex operational infrastructure. There is the social aspect, which resulted in a broad community of Internauts working together to create and evolve the technology. And there is the commercialization aspect, resulting in an extremely effective transition of research results into a broadly deployed and available information infrastructure.\\n\\nThe Internet today is a widespread information infrastructure, the initial prototype of what is often called the National (or Global or Galactic) Information Infrastructure. Its history is complex and involves many aspects - technological, organizational, and community. And its influence reaches not only to the technical fields of computer communications but throughout society as we move toward increasing use of online tools to accomplish electronic commerce, information acquisition, and community operations.\\n\\n## 2. ORIGINS OF THE INTERNET\\n\\nThe first recorded description of the social interactions that could be enabled through networking was a series of memos written by J.C.R.\", {'file_path': '/Users/vcaldeir/Code/multi-agent-governance/data/output/internet-history-09.md', 'file_name': 'internet-history-09.md', 'file_size': 58944, 'creation_date': '2025-07-04', 'last_modified_date': '2025-07-04'})]\n",
      "📤 Output: Thought: The current language of the user is: english. I have tried querying the local database twice, but it is not providing the specific information I need regarding the development of the World Wide Web and the internet in the 21st century. I will now use the `search_web` tool to find this information.\n",
      "Action: search_web\n",
      "Action Input: {'query': 'history of the World Wide Web, internet development in the 21st century'}\n",
      "🛠️  Planning to use tools: ['search_web']\n",
      "🔨 Calling Tool: search_web\n",
      "  With arguments: {'query': 'history of the World Wide Web, internet development in the 21st century'}\n",
      "🔧 Tool Result (search_web):\n",
      "  Arguments: {'query': 'history of the World Wide Web, internet development in the 21st century'}\n",
      "  Output: {'query': 'history of the World Wide Web, internet development in the 21st century', 'follow_up_questions': None, 'answer': None, 'images': [], 'results': [{'url': 'https://home.web.cern.ch/science/computing/birth-web/short-history-web', 'title': 'A short history of the Web | CERN', 'content': \"Tim Berners-Lee, a British scientist, invented the World Wide Web (WWW) in 1989, while working at CERN. The first page of Tim Berners-Lee's proposal for the World Wide Web, written in March 1989 (Image: CERN) By the end of 1990, Tim Berners-Lee had the first Web server and browser up and running at CERN, demonstrating his ideas. A replica of the NeXT machine used by Tim Berners-Lee in 1990 to develop and run the first WWW server, multimedia browser and web editor (Image: Maximilien Brice/Anna Pantelia/CERN) A screenshot showing the NeXT world wide web browser created by Tim Berners-Lee (Image: CERN) In 1994, Berners-Lee left CERN to join MIT and founded the International World Wide Web Consortium (W3C).\", 'score': 0.98544, 'raw_content': None}, {'url': 'https://en.wikipedia.org/wiki/History_of_the_World_Wide_Web', 'title': 'History of the World Wide Web - Wikipedia', 'content': 'By December 1990, Berners-Lee and his work team had built all the tools necessary for a working Web: the HyperText Transfer Protocol (HTTP), the HyperText Markup Language (HTML), the first web browser (named WorldWideWeb, which was also a web editor), the first web server (later known as CERN httpd) and the first web site () containing the first web pages that described the project itself was published on 20 December 1990. The World Wide Web Consortium (W3C) was founded by Tim Berners-Lee after he left the European Organization for Nuclear Research (CERN) in September/October 1994 in order to create open standards for the Web. It was founded at the Massachusetts Institute of Technology Laboratory for Computer Science (MIT/LCS) with support from the Defense Advanced Research Projects Agency (DARPA), which had pioneered the Internet.', 'score': 0.9822, 'raw_content': None}, {'url': 'https://www.ebsco.com/research-starters/history/rise-internet-and-world-wide-web', 'title': 'Rise of the Internet and the World Wide Web | EBSCO', 'content': 'Rise of the Internet and the World Wide Web | EBSCO Research Starters The rise of the Internet and the World Wide Web marks a significant transformation in global communication and information exchange. The World Wide Web, introduced by Tim Berners-Lee in 1990, provided a more accessible interface, enabling users to navigate information through hypertext links. The Internet is a loose collection of interconnecting commercial and noncommercial computer networks, including online information services, that use standard protocols (or rules) to exchange information. The **World Wide Web**, or Web, is a user-friendly “front end” to the information already on the Internet. He developed the standards for addressing, linking language, and transferring multimedia documents on the Web. This software provided a protocol for requesting readable information (including text, graphics, figures, and databases) stored on remote computer systems, using networks.', 'score': 0.98088, 'raw_content': None}, {'url': 'https://www.britannica.com/topic/World-Wide-Web', 'title': 'World Wide Web | History, Uses & Benefits - Britannica', 'content': 'Encyclopedia Britannica Encyclopedia Britannica proportions of World Wide Web content constituting the surface web, deep web, and dark web proportions of World Wide Web content constituting the surface web, deep web, and dark web The Web gives users access to a vast array of mass media and content—via the deep web, the dark web, and the commonly accessible surface web—that is connected by means of hypertext or hypermedia links—i.e., hyperlinks, electronic connections that link related pieces of information in order to allow a user easy access to them. More From Britannica computer programming language: World Wide Web display languages The software giant Microsoft Corporation became interested in supporting Internet applications on personal computers and developed its own Web browser (based initially on Mosaic), Internet Explorer (IE), in 1995 as an add-on to the Windows 95 operating system.', 'score': 0.97318, 'raw_content': None}, {'url': 'https://www.usg.edu/galileo/skills/unit07/internet07_02.phtml', 'title': 'A Brief History of the Internet - University System of Georgia', 'content': \"The Online Library Learning Center website is no longer being maintained, so information may be out-of-date. The Internet started in the 1960s as a way for government researchers to share information. Another catalyst in the formation of the Internet was the heating up of the Cold War. The Soviet Union's launch of the Sputnik satellite spurred the U.S. Defense Department to consider ways information could still be disseminated even after a nuclear attack. This eventually led to the formation of the ARPANET (Advanced Research Projects Agency Network), the network that ultimately evolved into what we now know as the Internet. ARPANET and the Defense Data Network officially changed to the TCP/IP standard on January 1, 1983, hence the birth of the Internet.\", 'score': 0.97081, 'raw_content': None}], 'response_time': 11.65}\n",
      "📤 Output: Thought: The current language of the user is: english. I have gathered information on the early development of the internet and the birth of the World Wide Web. However, I still need more specific details on the development of the internet in the 21st century to fulfill the user's request for a comprehensive report. I will perform another web search focusing on this period.\n",
      "Action: search_web\n",
      "Action Input: {'query': 'internet development 21st century, social media, mobile internet, cloud computing, IoT'}\n",
      "🛠️  Planning to use tools: ['search_web']\n",
      "🔨 Calling Tool: search_web\n",
      "  With arguments: {'query': 'internet development 21st century, social media, mobile internet, cloud computing, IoT'}\n",
      "🔧 Tool Result (search_web):\n",
      "  Arguments: {'query': 'internet development 21st century, social media, mobile internet, cloud computing, IoT'}\n",
      "  Output: {'query': 'internet development 21st century, social media, mobile internet, cloud computing, IoT', 'follow_up_questions': None, 'answer': None, 'images': [], 'results': [{'title': 'The Internet in the 21st Century: Transformative Era', 'url': 'https://www.larus.foundation/post/internet-in-the-21st-century', 'content': 'The 21st century has been a period of rapid transformation and unprecedented growth for the internet, fundamentally changing how we live, work, and connect. From the rise of broadband and social media to the advent of cloud computing and the Internet of Things (IoT), the Internet has evolved in ways that were unimaginable just a few decades ago.', 'score': 0.98534, 'raw_content': None}, {'title': 'Information technologies of 21st century and their impact on the ...', 'url': 'https://pmc.ncbi.nlm.nih.gov/articles/PMC7111555/', 'content': 'Then we saw a chain of web 2.0 technologies like E-commerce, which started, social media platforms, E-Business, E-Learning, E-government, Cloud Computing and more from 1995 to the early 21st century [4].', 'score': 0.9824, 'raw_content': None}, {'title': 'The \"Big Five\" IT trends of the next half decade: Mobile, social, cloud ...', 'url': 'https://www.zdnet.com/article/the-big-five-it-trends-of-the-next-half-decade-mobile-social-cloud-consumerization-and-big-data/', 'content': 'This includes next-gen mobility, social media (or more specifically social business), cloud computing, consumerization, and big data.', 'score': 0.97692, 'raw_content': None}, {'title': 'Top Technology Innovations in the 21st Century | Timeline Blog', 'url': 'https://www.cloud4c.com/blogs/timeline-of-the-top-tech-innovations-in-the-21st-century', 'content': 'Discover the groundbreaking tech innovations that have shaped the 21st century, from the rise of the internet and mobile revolution to AI and quantum computing.', 'score': 0.97382, 'raw_content': None}, {'title': 'Cloud Computing and Internet of Things: Recent Trends and Directions', 'url': 'https://link.springer.com/chapter/10.1007/978-3-031-05528-7_1', 'content': 'The twenty-first-century digital infrastructure and applications are driven by Cloud and Internet of Things (IoT) technologies. Applications built using IoT and Cloud computing technologies have become ubiquitous and influence our modern digital society in every aspect.', 'score': 0.96936, 'raw_content': None}], 'response_time': 2.03}\n",
      "📤 Output: Thought: The current language of the user is: english. I have gathered sufficient information on the history of the internet, including its early development, the rise of the World Wide Web, and its evolution in the 21st century. I will now record these notes and then hand off to the WriteAgent to generate the report.\n",
      "Action: record_notes\n",
      "Action Input: {'notes': \"The history of the internet began with foundational research in packet switching theory by Leonard Kleinrock in 1961. J.C.R. Licklider's 'Galactic Network' concept in 1962 envisioned a globally interconnected set of computers. This led to the development of ARPANET, a project initiated by Lawrence G. Roberts at DARPA in the late 1960s, with the first node at UCLA in 1969. Key components like Interface Message Processors (IMPs) were developed by BBN. The ARPANET and Defense Data Network officially adopted the TCP/IP standard on January 1, 1983, marking the birth of the Internet as we know it.\\n\\nThe World Wide Web (WWW) was invented by Tim Berners-Lee, a British scientist at CERN, in 1989. By the end of 1990, he had developed the essential tools: HyperText Transfer Protocol (HTTP), HyperText Markup Language (HTML), the first web browser (WorldWideWeb), and the first web server. The first website was published on December 20, 1990. In 1994, Berners-Lee founded the World Wide Web Consortium (W3C) to create open standards for the Web, making information more accessible through hypertext links.\\n\\nThe 21st century has seen the internet undergo rapid transformation and unprecedented growth. Key developments include the widespread adoption of broadband, the explosion of social media platforms, the emergence and ubiquity of mobile internet, the rise of cloud computing, and the increasing integration of the Internet of Things (IoT). These advancements have profoundly changed how people live, work, connect, and access information, driving new paradigms like e-commerce, e-business, e-learning, and e-government.\", 'notes_title': 'History of the Internet Report'}\n",
      "🛠️  Planning to use tools: ['record_notes']\n",
      "🔨 Calling Tool: record_notes\n",
      "  With arguments: {'notes': \"The history of the internet began with foundational research in packet switching theory by Leonard Kleinrock in 1961. J.C.R. Licklider's 'Galactic Network' concept in 1962 envisioned a globally interconnected set of computers. This led to the development of ARPANET, a project initiated by Lawrence G. Roberts at DARPA in the late 1960s, with the first node at UCLA in 1969. Key components like Interface Message Processors (IMPs) were developed by BBN. The ARPANET and Defense Data Network officially adopted the TCP/IP standard on January 1, 1983, marking the birth of the Internet as we know it.\\n\\nThe World Wide Web (WWW) was invented by Tim Berners-Lee, a British scientist at CERN, in 1989. By the end of 1990, he had developed the essential tools: HyperText Transfer Protocol (HTTP), HyperText Markup Language (HTML), the first web browser (WorldWideWeb), and the first web server. The first website was published on December 20, 1990. In 1994, Berners-Lee founded the World Wide Web Consortium (W3C) to create open standards for the Web, making information more accessible through hypertext links.\\n\\nThe 21st century has seen the internet undergo rapid transformation and unprecedented growth. Key developments include the widespread adoption of broadband, the explosion of social media platforms, the emergence and ubiquity of mobile internet, the rise of cloud computing, and the increasing integration of the Internet of Things (IoT). These advancements have profoundly changed how people live, work, connect, and access information, driving new paradigms like e-commerce, e-business, e-learning, and e-government.\", 'notes_title': 'History of the Internet Report'}\n",
      "🔧 Tool Result (record_notes):\n",
      "  Arguments: {'notes': \"The history of the internet began with foundational research in packet switching theory by Leonard Kleinrock in 1961. J.C.R. Licklider's 'Galactic Network' concept in 1962 envisioned a globally interconnected set of computers. This led to the development of ARPANET, a project initiated by Lawrence G. Roberts at DARPA in the late 1960s, with the first node at UCLA in 1969. Key components like Interface Message Processors (IMPs) were developed by BBN. The ARPANET and Defense Data Network officially adopted the TCP/IP standard on January 1, 1983, marking the birth of the Internet as we know it.\\n\\nThe World Wide Web (WWW) was invented by Tim Berners-Lee, a British scientist at CERN, in 1989. By the end of 1990, he had developed the essential tools: HyperText Transfer Protocol (HTTP), HyperText Markup Language (HTML), the first web browser (WorldWideWeb), and the first web server. The first website was published on December 20, 1990. In 1994, Berners-Lee founded the World Wide Web Consortium (W3C) to create open standards for the Web, making information more accessible through hypertext links.\\n\\nThe 21st century has seen the internet undergo rapid transformation and unprecedented growth. Key developments include the widespread adoption of broadband, the explosion of social media platforms, the emergence and ubiquity of mobile internet, the rise of cloud computing, and the increasing integration of the Internet of Things (IoT). These advancements have profoundly changed how people live, work, connect, and access information, driving new paradigms like e-commerce, e-business, e-learning, and e-government.\", 'notes_title': 'History of the Internet Report'}\n",
      "  Output: Notes recorded.\n"
     ]
    },
    {
     "name": "stderr",
     "output_type": "stream",
     "text": [
      "/var/folders/b1/0qwqt3rd3bq0_trjjrvjhgn80000gn/T/ipykernel_18977/277207654.py:18: DeprecationWarning: Context.get() is deprecated. Use 'await ctx.store.get()' instead.\n",
      "  current_state = await ctx.get(\"state\")\n",
      "/var/folders/b1/0qwqt3rd3bq0_trjjrvjhgn80000gn/T/ipykernel_18977/277207654.py:22: DeprecationWarning: Context.set(key, value) is deprecated. Use 'await ctx.store.set(key, value)' instead.\n",
      "  await ctx.set(\"state\", current_state)\n"
     ]
    },
    {
     "name": "stdout",
     "output_type": "stream",
     "text": [
      "📤 Output: Thought: The current language of the user is: english. I have successfully gathered all the necessary information and recorded it as notes. Now, I need to hand off to the `WriteAgent` to compile this information into a report as requested by the user.\n",
      "Action: handoff\n",
      "Action Input: {'to_agent': 'WriteAgent', 'reason': 'I have gathered all the necessary information on the history of the internet, including its development, the web, and its evolution in the 21st century. The WriteAgent is now needed to compile this into a report.'}\n",
      "🛠️  Planning to use tools: ['handoff']\n",
      "🔨 Calling Tool: handoff\n",
      "  With arguments: {'to_agent': 'WriteAgent', 'reason': 'I have gathered all the necessary information on the history of the internet, including its development, the web, and its evolution in the 21st century. The WriteAgent is now needed to compile this into a report.'}\n",
      "🔧 Tool Result (handoff):\n",
      "  Arguments: {'to_agent': 'WriteAgent', 'reason': 'I have gathered all the necessary information on the history of the internet, including its development, the web, and its evolution in the 21st century. The WriteAgent is now needed to compile this into a report.'}\n",
      "  Output: Agent WriteAgent is now handling the request due to the following reason: I have gathered all the necessary information on the history of the internet, including its development, the web, and its evolution in the 21st century. The WriteAgent is now needed to compile this into a report..\n",
      "Please continue with the current request.\n",
      "\n",
      "==================================================\n",
      "🤖 Agent: WriteAgent\n",
      "==================================================\n",
      "\n",
      "📤 Output: Thought: The current language of the user is: english. I have the `research_notes` which contain all the information needed to write the report. I will now use the `write_report` tool to generate the report in markdown format.\n",
      "Action: write_report\n",
      "Action Input: {'report_content': '# The History of the Internet\\n\\nThe Internet, a global network of interconnected computer networks, has revolutionized communication and information exchange. Its origins can be traced back to foundational research in the mid-20th century, evolving through several key stages to become the ubiquitous infrastructure it is today.\\n\\n## Development of the Internet\\n\\nThe conceptual groundwork for the Internet began with **Leonard Kleinrock**\\'s work on packet switching theory, first published in July 1961. This theory proposed breaking data into small blocks (packets) for more efficient transmission, a fundamental departure from traditional circuit-switched networks.\\n\\nIn August 1962, **J.C.R. Licklider** of MIT envisioned a \"Galactic Network,\" a globally interconnected set of computers allowing universal access to data and programs. Licklider, as the first head of the computer research program at DARPA (Defense Advanced Research Projects Agency), convinced his successors of the importance of this networking concept.\\n\\nBuilding on these ideas, **Lawrence G. Roberts** at DARPA developed the plan for the **ARPANET** (Advanced Research Projects Agency Network) in 1967. The first ARPANET node was established at UCLA in 1969, with subsequent nodes quickly following. Key components, such as the Interface Message Processors (IMPs) developed by Bolt Beranek and Newman (BBN), were crucial for the network\\'s functionality.\\n\\nA pivotal moment in the Internet\\'s development was the adoption of the **TCP/IP (Transmission Control Protocol/Internet Protocol) standard** on January 1, 1983. This standardized set of communication protocols allowed diverse networks to interconnect and communicate seamlessly, effectively marking the birth of the modern Internet.\\n\\n## Development of the World Wide Web\\n\\nWhile the Internet provided the underlying network infrastructure, the **World Wide Web (WWW)** made information accessible and navigable for a broader audience. The Web was invented by **Tim Berners-Lee**, a British scientist working at CERN, in 1989.\\n\\nBy the end of 1990, Berners-Lee had developed the essential components for a working Web: the **HyperText Transfer Protocol (HTTP)** for data transfer, the **HyperText Markup Language (HTML)** for structuring web pages, the first web browser (named WorldWideWeb, which also functioned as an editor), and the first web server. The very first website was published on December 20, 1990.\\n\\nIn 1994, Berners-Lee founded the **World Wide Web Consortium (W3C)** after leaving CERN. The W3C\\'s mission was to create open standards for the Web, ensuring its continued growth and interoperability. The Web\\'s user-friendly interface, based on hypertext links, transformed how people accessed and shared information online.\\n\\n## Development of the Internet in the 21st Century\\n\\nThe 21st century has witnessed an explosion of growth and transformative changes in the Internet\\'s landscape. This era is characterized by several key developments:\\n\\n*   **Widespread Broadband Adoption:** The proliferation of high-speed internet connections made rich multimedia content and complex online applications feasible for the average user.\\n*   **Rise of Social Media:** Platforms like Facebook, Twitter, and Instagram emerged, fundamentally changing social interaction, communication, and information dissemination on a global scale.\\n*   **Mobile Internet Ubiquity:** The advent of smartphones and mobile devices led to the Internet being accessible anytime, anywhere, driving new forms of connectivity and services.\\n*   **Cloud Computing:** This paradigm shift allowed for the delivery of computing services—including servers, storage, databases, networking, software, analytics, and intelligence—over the Internet (\"the cloud\"), reducing the need for local infrastructure.\\n*   **Internet of Things (IoT):** The increasing integration of everyday objects with internet connectivity has led to a vast network of physical devices embedded with sensors, software, and other technologies for the purpose of connecting and exchanging data with other devices and systems over the Internet.\\n\\nThese advancements have profoundly impacted society, driving new paradigms in e-commerce, e-business, e-learning, e-government, and countless other aspects of modern life, making the Internet an indispensable part of the global infrastructure.'}'}\n",
      "🛠️  Planning to use tools: ['write_report']\n",
      "🔨 Calling Tool: write_report\n",
      "  With arguments: {'report_content': '# The History of the Internet\\n\\nThe Internet, a global network of interconnected computer networks, has revolutionized communication and information exchange. Its origins can be traced back to foundational research in the mid-20th century, evolving through several key stages to become the ubiquitous infrastructure it is today.\\n\\n## Development of the Internet\\n\\nThe conceptual groundwork for the Internet began with **Leonard Kleinrock**\\'s work on packet switching theory, first published in July 1961. This theory proposed breaking data into small blocks (packets) for more efficient transmission, a fundamental departure from traditional circuit-switched networks.\\n\\nIn August 1962, **J.C.R. Licklider** of MIT envisioned a \"Galactic Network,\" a globally interconnected set of computers allowing universal access to data and programs. Licklider, as the first head of the computer research program at DARPA (Defense Advanced Research Projects Agency), convinced his successors of the importance of this networking concept.\\n\\nBuilding on these ideas, **Lawrence G. Roberts** at DARPA developed the plan for the **ARPANET** (Advanced Research Projects Agency Network) in 1967. The first ARPANET node was established at UCLA in 1969, with subsequent nodes quickly following. Key components, such as the Interface Message Processors (IMPs) developed by Bolt Beranek and Newman (BBN), were crucial for the network\\'s functionality.\\n\\nA pivotal moment in the Internet\\'s development was the adoption of the **TCP/IP (Transmission Control Protocol/Internet Protocol) standard** on January 1, 1983. This standardized set of communication protocols allowed diverse networks to interconnect and communicate seamlessly, effectively marking the birth of the modern Internet.\\n\\n## Development of the World Wide Web\\n\\nWhile the Internet provided the underlying network infrastructure, the **World Wide Web (WWW)** made information accessible and navigable for a broader audience. The Web was invented by **Tim Berners-Lee**, a British scientist working at CERN, in 1989.\\n\\nBy the end of 1990, Berners-Lee had developed the essential components for a working Web: the **HyperText Transfer Protocol (HTTP)** for data transfer, the **HyperText Markup Language (HTML)** for structuring web pages, the first web browser (named WorldWideWeb, which also functioned as an editor), and the first web server. The very first website was published on December 20, 1990.\\n\\nIn 1994, Berners-Lee founded the **World Wide Web Consortium (W3C)** after leaving CERN. The W3C\\'s mission was to create open standards for the Web, ensuring its continued growth and interoperability. The Web\\'s user-friendly interface, based on hypertext links, transformed how people accessed and shared information online.\\n\\n## Development of the Internet in the 21st Century\\n\\nThe 21st century has witnessed an explosion of growth and transformative changes in the Internet\\'s landscape. This era is characterized by several key developments:\\n\\n*   **Widespread Broadband Adoption:** The proliferation of high-speed internet connections made rich multimedia content and complex online applications feasible for the average user.\\n*   **Rise of Social Media:** Platforms like Facebook, Twitter, and Instagram emerged, fundamentally changing social interaction, communication, and information dissemination on a global scale.\\n*   **Mobile Internet Ubiquity:** The advent of smartphones and mobile devices led to the Internet being accessible anytime, anywhere, driving new forms of connectivity and services.\\n*   **Cloud Computing:** This paradigm shift allowed for the delivery of computing services—including servers, storage, databases, networking, software, analytics, and intelligence—over the Internet (\"the cloud\"), reducing the need for local infrastructure.\\n*   **Internet of Things (IoT):** The increasing integration of everyday objects with internet connectivity has led to a vast network of physical devices embedded with sensors, software, and other technologies for the purpose of connecting and exchanging data with other devices and systems over the Internet.\\n\\nThese advancements have profoundly impacted society, driving new paradigms in e-commerce, e-business, e-learning, e-government, and countless other aspects of modern life, making the Internet an indispensable part of the global infrastructure.'}\n",
      "🔧 Tool Result (write_report):\n",
      "  Arguments: {'report_content': '# The History of the Internet\\n\\nThe Internet, a global network of interconnected computer networks, has revolutionized communication and information exchange. Its origins can be traced back to foundational research in the mid-20th century, evolving through several key stages to become the ubiquitous infrastructure it is today.\\n\\n## Development of the Internet\\n\\nThe conceptual groundwork for the Internet began with **Leonard Kleinrock**\\'s work on packet switching theory, first published in July 1961. This theory proposed breaking data into small blocks (packets) for more efficient transmission, a fundamental departure from traditional circuit-switched networks.\\n\\nIn August 1962, **J.C.R. Licklider** of MIT envisioned a \"Galactic Network,\" a globally interconnected set of computers allowing universal access to data and programs. Licklider, as the first head of the computer research program at DARPA (Defense Advanced Research Projects Agency), convinced his successors of the importance of this networking concept.\\n\\nBuilding on these ideas, **Lawrence G. Roberts** at DARPA developed the plan for the **ARPANET** (Advanced Research Projects Agency Network) in 1967. The first ARPANET node was established at UCLA in 1969, with subsequent nodes quickly following. Key components, such as the Interface Message Processors (IMPs) developed by Bolt Beranek and Newman (BBN), were crucial for the network\\'s functionality.\\n\\nA pivotal moment in the Internet\\'s development was the adoption of the **TCP/IP (Transmission Control Protocol/Internet Protocol) standard** on January 1, 1983. This standardized set of communication protocols allowed diverse networks to interconnect and communicate seamlessly, effectively marking the birth of the modern Internet.\\n\\n## Development of the World Wide Web\\n\\nWhile the Internet provided the underlying network infrastructure, the **World Wide Web (WWW)** made information accessible and navigable for a broader audience. The Web was invented by **Tim Berners-Lee**, a British scientist working at CERN, in 1989.\\n\\nBy the end of 1990, Berners-Lee had developed the essential components for a working Web: the **HyperText Transfer Protocol (HTTP)** for data transfer, the **HyperText Markup Language (HTML)** for structuring web pages, the first web browser (named WorldWideWeb, which also functioned as an editor), and the first web server. The very first website was published on December 20, 1990.\\n\\nIn 1994, Berners-Lee founded the **World Wide Web Consortium (W3C)** after leaving CERN. The W3C\\'s mission was to create open standards for the Web, ensuring its continued growth and interoperability. The Web\\'s user-friendly interface, based on hypertext links, transformed how people accessed and shared information online.\\n\\n## Development of the Internet in the 21st Century\\n\\nThe 21st century has witnessed an explosion of growth and transformative changes in the Internet\\'s landscape. This era is characterized by several key developments:\\n\\n*   **Widespread Broadband Adoption:** The proliferation of high-speed internet connections made rich multimedia content and complex online applications feasible for the average user.\\n*   **Rise of Social Media:** Platforms like Facebook, Twitter, and Instagram emerged, fundamentally changing social interaction, communication, and information dissemination on a global scale.\\n*   **Mobile Internet Ubiquity:** The advent of smartphones and mobile devices led to the Internet being accessible anytime, anywhere, driving new forms of connectivity and services.\\n*   **Cloud Computing:** This paradigm shift allowed for the delivery of computing services—including servers, storage, databases, networking, software, analytics, and intelligence—over the Internet (\"the cloud\"), reducing the need for local infrastructure.\\n*   **Internet of Things (IoT):** The increasing integration of everyday objects with internet connectivity has led to a vast network of physical devices embedded with sensors, software, and other technologies for the purpose of connecting and exchanging data with other devices and systems over the Internet.\\n\\nThese advancements have profoundly impacted society, driving new paradigms in e-commerce, e-business, e-learning, e-government, and countless other aspects of modern life, making the Internet an indispensable part of the global infrastructure.'}\n",
      "  Output: Report written.\n"
     ]
    },
    {
     "name": "stderr",
     "output_type": "stream",
     "text": [
      "/var/folders/b1/0qwqt3rd3bq0_trjjrvjhgn80000gn/T/ipykernel_18977/277207654.py:28: DeprecationWarning: Context.get() is deprecated. Use 'await ctx.store.get()' instead.\n",
      "  current_state = await ctx.get(\"state\")\n",
      "/var/folders/b1/0qwqt3rd3bq0_trjjrvjhgn80000gn/T/ipykernel_18977/277207654.py:30: DeprecationWarning: Context.set(key, value) is deprecated. Use 'await ctx.store.set(key, value)' instead.\n",
      "  await ctx.set(\"state\", current_state)\n"
     ]
    },
    {
     "name": "stdout",
     "output_type": "stream",
     "text": [
      "📤 Output: Thought: I can answer without using any more tools. I'll use the user's language to answer\n",
      "Answer: I have successfully generated the report on the history of the internet, including its development, the development of the web, and its evolution in the 21st century. The report has been written and is available in the `report_content` state.\n"
     ]
    }
   ],
   "source": [
    "from llama_index.core.agent.workflow import (\n",
    "    AgentInput,\n",
    "    AgentOutput,\n",
    "    ToolCall,\n",
    "    ToolCallResult,\n",
    "    AgentStream,\n",
    ")\n",
    "\n",
    "handler = agent_workflow.run(\n",
    "    user_msg=(\n",
    "        \"Search for the history of internet and write me a report on it. \"\n",
    "        \"Briefly describe the history of the internet, including the development of the internet, the development of the web, \"\n",
    "        \"and the development of the internet in the 21st century.\"\n",
    "    )\n",
    ")\n",
    "\n",
    "current_agent = None\n",
    "current_tool_calls = \"\"\n",
    "async for event in handler.stream_events():\n",
    "    if (\n",
    "        hasattr(event, \"current_agent_name\")\n",
    "        and event.current_agent_name != current_agent\n",
    "    ):\n",
    "        current_agent = event.current_agent_name\n",
    "        print(f\"\\n{'='*50}\")\n",
    "        print(f\"🤖 Agent: {current_agent}\")\n",
    "        print(f\"{'='*50}\\n\")\n",
    "\n",
    "    # if isinstance(event, AgentStream):\n",
    "    #     if event.delta:\n",
    "    #         print(event.delta, end=\"\", flush=True)\n",
    "    # elif isinstance(event, AgentInput):\n",
    "    #     print(\"📥 Input:\", event.input)\n",
    "    elif isinstance(event, AgentOutput):\n",
    "        if event.response.content:\n",
    "            print(\"📤 Output:\", event.response.content)\n",
    "        if event.tool_calls:\n",
    "            print(\n",
    "                \"🛠️  Planning to use tools:\",\n",
    "                [call.tool_name for call in event.tool_calls],\n",
    "            )\n",
    "    elif isinstance(event, ToolCallResult):\n",
    "        print(f\"🔧 Tool Result ({event.tool_name}):\")\n",
    "        print(f\"  Arguments: {event.tool_kwargs}\")\n",
    "        print(f\"  Output: {event.tool_output}\")\n",
    "    elif isinstance(event, ToolCall):\n",
    "        print(f\"🔨 Calling Tool: {event.tool_name}\")\n",
    "        print(f\"  With arguments: {event.tool_kwargs}\")"
   ]
  },
  {
   "cell_type": "markdown",
   "metadata": {},
   "source": [
    "Now, we can retrieve the final report in the system for ourselves."
   ]
  },
  {
   "cell_type": "code",
   "execution_count": 21,
   "metadata": {},
   "outputs": [
    {
     "name": "stdout",
     "output_type": "stream",
     "text": [
      "# The History of the Internet\n",
      "\n",
      "The Internet, a global network of interconnected computer networks, has revolutionized communication and information exchange. Its origins can be traced back to foundational research in the mid-20th century, evolving through several key stages to become the ubiquitous infrastructure it is today.\n",
      "\n",
      "## Development of the Internet\n",
      "\n",
      "The conceptual groundwork for the Internet began with **Leonard Kleinrock**'s work on packet switching theory, first published in July 1961. This theory proposed breaking data into small blocks (packets) for more efficient transmission, a fundamental departure from traditional circuit-switched networks.\n",
      "\n",
      "In August 1962, **J.C.R. Licklider** of MIT envisioned a \"Galactic Network,\" a globally interconnected set of computers allowing universal access to data and programs. Licklider, as the first head of the computer research program at DARPA (Defense Advanced Research Projects Agency), convinced his successors of the importance of this networking concept.\n",
      "\n",
      "Building on these ideas, **Lawrence G. Roberts** at DARPA developed the plan for the **ARPANET** (Advanced Research Projects Agency Network) in 1967. The first ARPANET node was established at UCLA in 1969, with subsequent nodes quickly following. Key components, such as the Interface Message Processors (IMPs) developed by Bolt Beranek and Newman (BBN), were crucial for the network's functionality.\n",
      "\n",
      "A pivotal moment in the Internet's development was the adoption of the **TCP/IP (Transmission Control Protocol/Internet Protocol) standard** on January 1, 1983. This standardized set of communication protocols allowed diverse networks to interconnect and communicate seamlessly, effectively marking the birth of the modern Internet.\n",
      "\n",
      "## Development of the World Wide Web\n",
      "\n",
      "While the Internet provided the underlying network infrastructure, the **World Wide Web (WWW)** made information accessible and navigable for a broader audience. The Web was invented by **Tim Berners-Lee**, a British scientist working at CERN, in 1989.\n",
      "\n",
      "By the end of 1990, Berners-Lee had developed the essential components for a working Web: the **HyperText Transfer Protocol (HTTP)** for data transfer, the **HyperText Markup Language (HTML)** for structuring web pages, the first web browser (named WorldWideWeb, which also functioned as an editor), and the first web server. The very first website was published on December 20, 1990.\n",
      "\n",
      "In 1994, Berners-Lee founded the **World Wide Web Consortium (W3C)** after leaving CERN. The W3C's mission was to create open standards for the Web, ensuring its continued growth and interoperability. The Web's user-friendly interface, based on hypertext links, transformed how people accessed and shared information online.\n",
      "\n",
      "## Development of the Internet in the 21st Century\n",
      "\n",
      "The 21st century has witnessed an explosion of growth and transformative changes in the Internet's landscape. This era is characterized by several key developments:\n",
      "\n",
      "*   **Widespread Broadband Adoption:** The proliferation of high-speed internet connections made rich multimedia content and complex online applications feasible for the average user.\n",
      "*   **Rise of Social Media:** Platforms like Facebook, Twitter, and Instagram emerged, fundamentally changing social interaction, communication, and information dissemination on a global scale.\n",
      "*   **Mobile Internet Ubiquity:** The advent of smartphones and mobile devices led to the Internet being accessible anytime, anywhere, driving new forms of connectivity and services.\n",
      "*   **Cloud Computing:** This paradigm shift allowed for the delivery of computing services—including servers, storage, databases, networking, software, analytics, and intelligence—over the Internet (\"the cloud\"), reducing the need for local infrastructure.\n",
      "*   **Internet of Things (IoT):** The increasing integration of everyday objects with internet connectivity has led to a vast network of physical devices embedded with sensors, software, and other technologies for the purpose of connecting and exchanging data with other devices and systems over the Internet.\n",
      "\n",
      "These advancements have profoundly impacted society, driving new paradigms in e-commerce, e-business, e-learning, e-government, and countless other aspects of modern life, making the Internet an indispensable part of the global infrastructure.\n"
     ]
    }
   ],
   "source": [
    "state = await handler.ctx.store.get(\"state\")\n",
    "print(state[\"report_content\"])"
   ]
  }
 ],
 "metadata": {
  "kernelspec": {
   "display_name": ".venv",
   "language": "python",
   "name": "python3"
  },
  "language_info": {
   "codemirror_mode": {
    "name": "ipython",
    "version": 3
   },
   "file_extension": ".py",
   "mimetype": "text/x-python",
   "name": "python",
   "nbconvert_exporter": "python",
   "pygments_lexer": "ipython3",
   "version": "3.11.9"
  }
 },
 "nbformat": 4,
 "nbformat_minor": 2
}
